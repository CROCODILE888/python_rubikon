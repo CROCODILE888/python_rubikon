{
 "cells": [
  {
   "cell_type": "code",
   "execution_count": 9,
   "id": "97d6e864",
   "metadata": {},
   "outputs": [
    {
     "data": {
      "text/plain": [
       "[Document(metadata={'source': 'speech.txt'}, page_content='THE MARVELLOUS THING IS THAT IT’S painless,\" he said. \"That\\'s how you know when it starts.\"\\n\\n\"Is it really?\"\\n\\n\"Absolutely. I\\'m awfully sorry about the odor though. That must bother you.\"\\n\\n\"Don\\'t! Please don\\'t.\"\\n\\n\"Look at them,\" he said. \"Now is it sight or is it scent that brings them like that?\"\\n\\nThe cot the man lay on was in the wide shade of a mimosa tree and as he looked out past the shade onto the glare of the plain there were three of the big birds squatted obscenely, while in the sky a dozen more sailed, making quick-moving shadows as they passed.')]"
      ]
     },
     "execution_count": 9,
     "metadata": {},
     "output_type": "execute_result"
    }
   ],
   "source": [
    "from langchain_community.document_loaders import TextLoader\n",
    "\n",
    "loader = TextLoader('speech.txt')\n",
    "text = loader.load()\n",
    "\n",
    "text"
   ]
  },
  {
   "cell_type": "code",
   "execution_count": 12,
   "id": "838e2f31",
   "metadata": {},
   "outputs": [
    {
     "data": {
      "text/plain": [
       "[Document(metadata={'source': 'speech.txt'}, page_content='THE MARVELLOUS THING IS THAT IT’S painless,\" he'),\n",
       " Document(metadata={'source': 'speech.txt'}, page_content='he said. \"That\\'s how you know when it starts.\"'),\n",
       " Document(metadata={'source': 'speech.txt'}, page_content='\"Is it really?\"'),\n",
       " Document(metadata={'source': 'speech.txt'}, page_content='\"Absolutely. I\\'m awfully sorry about the odor'),\n",
       " Document(metadata={'source': 'speech.txt'}, page_content='odor though. That must bother you.\"'),\n",
       " Document(metadata={'source': 'speech.txt'}, page_content='\"Don\\'t! Please don\\'t.\"'),\n",
       " Document(metadata={'source': 'speech.txt'}, page_content='\"Look at them,\" he said. \"Now is it sight or is'),\n",
       " Document(metadata={'source': 'speech.txt'}, page_content='is it scent that brings them like that?\"'),\n",
       " Document(metadata={'source': 'speech.txt'}, page_content='The cot the man lay on was in the wide shade of a'),\n",
       " Document(metadata={'source': 'speech.txt'}, page_content='of a mimosa tree and as he looked out past the'),\n",
       " Document(metadata={'source': 'speech.txt'}, page_content='the shade onto the glare of the plain there were'),\n",
       " Document(metadata={'source': 'speech.txt'}, page_content='were three of the big birds squatted obscenely,'),\n",
       " Document(metadata={'source': 'speech.txt'}, page_content='while in the sky a dozen more sailed, making'),\n",
       " Document(metadata={'source': 'speech.txt'}, page_content='quick-moving shadows as they passed.')]"
      ]
     },
     "execution_count": 12,
     "metadata": {},
     "output_type": "execute_result"
    }
   ],
   "source": [
    "from langchain_text_splitters import RecursiveCharacterTextSplitter\n",
    "\n",
    "text_splitter = RecursiveCharacterTextSplitter(chunk_size=50, chunk_overlap=5)\n",
    "final_doc = text_splitter.split_documents(text)\n",
    "\n",
    "final_doc"
   ]
  }
 ],
 "metadata": {
  "kernelspec": {
   "display_name": "Python 3",
   "language": "python",
   "name": "python3"
  },
  "language_info": {
   "codemirror_mode": {
    "name": "ipython",
    "version": 3
   },
   "file_extension": ".py",
   "mimetype": "text/x-python",
   "name": "python",
   "nbconvert_exporter": "python",
   "pygments_lexer": "ipython3",
   "version": "3.12.0"
  }
 },
 "nbformat": 4,
 "nbformat_minor": 5
}
