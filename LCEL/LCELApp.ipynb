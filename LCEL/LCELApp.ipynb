{
 "cells": [
  {
   "cell_type": "code",
   "execution_count": 1,
   "id": "a2896021",
   "metadata": {},
   "outputs": [
    {
     "data": {
      "text/plain": [
       "'Hallo, wie heißt du? \\n'"
      ]
     },
     "execution_count": 1,
     "metadata": {},
     "output_type": "execute_result"
    }
   ],
   "source": [
    "import os\n",
    "from dotenv import load_dotenv\n",
    "\n",
    "load_dotenv()\n",
    "\n",
    "groq_api_key = os.getenv(\"GROQ_API_KEY\")\n",
    "from langchain_groq import ChatGroq\n",
    "\n",
    "model = ChatGroq(api_key=groq_api_key, model=\"gemma2-9b-it\")\n",
    "\n",
    "model\n",
    "from langchain_core.messages import SystemMessage, HumanMessage \n",
    "\n",
    "messages = [\n",
    "    SystemMessage(content=\"Translate the following from English to German\"),\n",
    "    HumanMessage(content=\"Hello, how are you?\")\n",
    "]\n",
    "\n",
    "result = model.invoke(messages)\n",
    "result\n",
    "from langchain_core.output_parsers import StrOutputParser\n",
    "\n",
    "parser = StrOutputParser()\n",
    "\n",
    "parser.invoke(result)  \n",
    "# Using LCEL, we can chain the components\n",
    "\n",
    "chain = model | parser\n",
    "\n",
    "chain.invoke(messages)\n",
    "from langchain_core.prompts import ChatPromptTemplate\n",
    "\n",
    "generic_template = \"Translate the following into {language}\"\n",
    "\n",
    "prompt = ChatPromptTemplate.from_messages(\n",
    "    [(\"system\", generic_template), (\"user\", \"{text}\")]\n",
    ")\n",
    "\n",
    "result = prompt.invoke(\n",
    "    {\n",
    "        \"language\": \"German\",\n",
    "        \"text\": \"Hello, what is your name?\"\n",
    "    }\n",
    ")\n",
    "result.to_messages()\n",
    "# Chaining components together with LCEL \n",
    "chain = prompt | model | parser\n",
    "\n",
    "chain.invoke(\n",
    "    {\n",
    "        \"language\": \"German\",\n",
    "        \"text\": \"Hello, what is your name?\"\n",
    "    }\n",
    ")"
   ]
  }
 ],
 "metadata": {
  "kernelspec": {
   "display_name": "Python 3",
   "language": "python",
   "name": "python3"
  },
  "language_info": {
   "codemirror_mode": {
    "name": "ipython",
    "version": 3
   },
   "file_extension": ".py",
   "mimetype": "text/x-python",
   "name": "python",
   "nbconvert_exporter": "python",
   "pygments_lexer": "ipython3",
   "version": "3.12.0"
  }
 },
 "nbformat": 4,
 "nbformat_minor": 5
}
