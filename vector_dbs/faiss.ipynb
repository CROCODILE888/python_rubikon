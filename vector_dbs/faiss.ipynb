{
 "cells": [
  {
   "cell_type": "code",
   "execution_count": 2,
   "id": "ad1ce368",
   "metadata": {},
   "outputs": [],
   "source": [
    "from langchain_community.document_loaders import TextLoader\n",
    "from langchain_text_splitters import CharacterTextSplitter\n",
    "from langchain_community.embeddings import OllamaEmbeddings\n",
    "from langchain_community.vectorstores import FAISS\n"
   ]
  },
  {
   "cell_type": "code",
   "execution_count": 4,
   "id": "2754d5c5",
   "metadata": {},
   "outputs": [
    {
     "data": {
      "text/plain": [
       "[Document(metadata={'source': 'speech.txt'}, page_content='THE MARVELLOUS THING IS THAT IT’S painless,\" he said. \"That\\'s how you know when it starts.\"'),\n",
       " Document(metadata={'source': 'speech.txt'}, page_content='\"Is it really?\"\\n\\n\"Absolutely. I\\'m awfully sorry about the odor though. That must bother you.\"'),\n",
       " Document(metadata={'source': 'speech.txt'}, page_content='\"Don\\'t! Please don\\'t.\"'),\n",
       " Document(metadata={'source': 'speech.txt'}, page_content='\"Look at them,\" he said. \"Now is it sight or is it scent that brings them like that?\"'),\n",
       " Document(metadata={'source': 'speech.txt'}, page_content='The cot the man lay on was in the wide shade of a mimosa tree and as he looked out past the shade onto the glare of the plain there were three of the big birds squatted obscenely, while in the sky a dozen more sailed, making quick-moving shadows as they passed.')]"
      ]
     },
     "execution_count": 4,
     "metadata": {},
     "output_type": "execute_result"
    }
   ],
   "source": [
    "# Load the documents\n",
    "loader = TextLoader(\"speech.txt\")\n",
    "documents = loader.load()\n",
    "\n",
    "# Split the documents into chunks\n",
    "text_splitter = CharacterTextSplitter(chunk_size=100, chunk_overlap=10)\n",
    "texts = text_splitter.split_documents(documents)\n",
    "texts"
   ]
  },
  {
   "cell_type": "code",
   "execution_count": 6,
   "id": "2a7af894",
   "metadata": {},
   "outputs": [
    {
     "data": {
      "text/plain": [
       "OllamaEmbeddings(base_url='http://localhost:11434', model='nomic-embed-text', embed_instruction='passage: ', query_instruction='query: ', mirostat=None, mirostat_eta=None, mirostat_tau=None, num_ctx=None, num_gpu=None, num_thread=None, repeat_last_n=None, repeat_penalty=None, temperature=None, stop=None, tfs_z=None, top_k=None, top_p=None, show_progress=False, headers=None, model_kwargs=None)"
      ]
     },
     "execution_count": 6,
     "metadata": {},
     "output_type": "execute_result"
    }
   ],
   "source": [
    "embeddings = (\n",
    "    OllamaEmbeddings(model=\"nomic-embed-text\")\n",
    ")\n",
    "\n",
    "embeddings"
   ]
  },
  {
   "cell_type": "code",
   "execution_count": 7,
   "id": "3aef62ac",
   "metadata": {},
   "outputs": [
    {
     "data": {
      "text/plain": [
       "<langchain_community.vectorstores.faiss.FAISS at 0x233a545bec0>"
      ]
     },
     "execution_count": 7,
     "metadata": {},
     "output_type": "execute_result"
    }
   ],
   "source": [
    "db = FAISS.from_documents(texts, embeddings)\n",
    "db"
   ]
  },
  {
   "cell_type": "code",
   "execution_count": 9,
   "id": "69c16cf4",
   "metadata": {},
   "outputs": [
    {
     "data": {
      "text/plain": [
       "'THE MARVELLOUS THING IS THAT IT’S painless,\" he said. \"That\\'s how you know when it starts.\"'"
      ]
     },
     "execution_count": 9,
     "metadata": {},
     "output_type": "execute_result"
    }
   ],
   "source": [
    "# Now we can query the database\n",
    "query = \"What is marvelous thing?\"\n",
    "results = db.similarity_search(query)\n",
    "results[0].page_content"
   ]
  },
  {
   "cell_type": "code",
   "execution_count": 10,
   "id": "499f3c4c",
   "metadata": {},
   "outputs": [
    {
     "data": {
      "text/plain": [
       "[(Document(id='1199b226-097a-4749-b03b-cb38dacb25af', metadata={'source': 'speech.txt'}, page_content='THE MARVELLOUS THING IS THAT IT’S painless,\" he said. \"That\\'s how you know when it starts.\"'),\n",
       "  np.float32(517.1804)),\n",
       " (Document(id='95720c6b-a58b-46d2-aeb4-a5d0df7cde8b', metadata={'source': 'speech.txt'}, page_content='\"Is it really?\"\\n\\n\"Absolutely. I\\'m awfully sorry about the odor though. That must bother you.\"'),\n",
       "  np.float32(541.8161)),\n",
       " (Document(id='3c42c319-1cab-4f5d-b7be-120853adde4e', metadata={'source': 'speech.txt'}, page_content='\"Look at them,\" he said. \"Now is it sight or is it scent that brings them like that?\"'),\n",
       "  np.float32(559.803)),\n",
       " (Document(id='3fe36996-e9b7-406c-a6dc-2b392a235369', metadata={'source': 'speech.txt'}, page_content='The cot the man lay on was in the wide shade of a mimosa tree and as he looked out past the shade onto the glare of the plain there were three of the big birds squatted obscenely, while in the sky a dozen more sailed, making quick-moving shadows as they passed.'),\n",
       "  np.float32(586.8709))]"
      ]
     },
     "execution_count": 10,
     "metadata": {},
     "output_type": "execute_result"
    }
   ],
   "source": [
    "result_with_score = db.similarity_search_with_score(query)\n",
    "result_with_score"
   ]
  },
  {
   "cell_type": "code",
   "execution_count": 12,
   "id": "e9e1cc50",
   "metadata": {},
   "outputs": [],
   "source": [
    "# Saving the database\n",
    "db.save_local(\"faiss_index\")\n"
   ]
  },
  {
   "cell_type": "code",
   "execution_count": 13,
   "id": "c89460bd",
   "metadata": {},
   "outputs": [],
   "source": [
    "new_db = FAISS.load_local(\"faiss_index\", embeddings, allow_dangerous_deserialization=True)\n",
    "\n",
    "result1 = new_db.similarity_search(\"What is marvelous thing?\")"
   ]
  },
  {
   "cell_type": "code",
   "execution_count": 14,
   "id": "07f8db02",
   "metadata": {},
   "outputs": [
    {
     "data": {
      "text/plain": [
       "[Document(id='1199b226-097a-4749-b03b-cb38dacb25af', metadata={'source': 'speech.txt'}, page_content='THE MARVELLOUS THING IS THAT IT’S painless,\" he said. \"That\\'s how you know when it starts.\"'),\n",
       " Document(id='95720c6b-a58b-46d2-aeb4-a5d0df7cde8b', metadata={'source': 'speech.txt'}, page_content='\"Is it really?\"\\n\\n\"Absolutely. I\\'m awfully sorry about the odor though. That must bother you.\"'),\n",
       " Document(id='3c42c319-1cab-4f5d-b7be-120853adde4e', metadata={'source': 'speech.txt'}, page_content='\"Look at them,\" he said. \"Now is it sight or is it scent that brings them like that?\"'),\n",
       " Document(id='3fe36996-e9b7-406c-a6dc-2b392a235369', metadata={'source': 'speech.txt'}, page_content='The cot the man lay on was in the wide shade of a mimosa tree and as he looked out past the shade onto the glare of the plain there were three of the big birds squatted obscenely, while in the sky a dozen more sailed, making quick-moving shadows as they passed.')]"
      ]
     },
     "execution_count": 14,
     "metadata": {},
     "output_type": "execute_result"
    }
   ],
   "source": [
    "result1"
   ]
  }
 ],
 "metadata": {
  "kernelspec": {
   "display_name": "Python 3",
   "language": "python",
   "name": "python3"
  },
  "language_info": {
   "codemirror_mode": {
    "name": "ipython",
    "version": 3
   },
   "file_extension": ".py",
   "mimetype": "text/x-python",
   "name": "python",
   "nbconvert_exporter": "python",
   "pygments_lexer": "ipython3",
   "version": "3.12.0"
  }
 },
 "nbformat": 4,
 "nbformat_minor": 5
}
